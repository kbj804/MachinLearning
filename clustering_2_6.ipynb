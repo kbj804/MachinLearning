{
 "cells": [
  {
   "cell_type": "code",
   "execution_count": 2,
   "metadata": {},
   "outputs": [
    {
     "data": {
      "text/html": [
       "<div>\n",
       "<style>\n",
       "    .dataframe thead tr:only-child th {\n",
       "        text-align: right;\n",
       "    }\n",
       "\n",
       "    .dataframe thead th {\n",
       "        text-align: left;\n",
       "    }\n",
       "\n",
       "    .dataframe tbody tr th {\n",
       "        vertical-align: top;\n",
       "    }\n",
       "</style>\n",
       "<table border=\"1\" class=\"dataframe\">\n",
       "  <thead>\n",
       "    <tr style=\"text-align: right;\">\n",
       "      <th></th>\n",
       "      <th>url_id</th>\n",
       "      <th>url</th>\n",
       "      <th>url_harmful_idx</th>\n",
       "      <th>harmful_word_num</th>\n",
       "      <th>harmful_child_num</th>\n",
       "      <th>img_num</th>\n",
       "      <th>child_num</th>\n",
       "      <th>harmful_weight</th>\n",
       "      <th>top_word</th>\n",
       "    </tr>\n",
       "  </thead>\n",
       "  <tbody>\n",
       "    <tr>\n",
       "      <th>0</th>\n",
       "      <td>5</td>\n",
       "      <td>madteenies.com</td>\n",
       "      <td>2</td>\n",
       "      <td>10</td>\n",
       "      <td>3</td>\n",
       "      <td>42.0</td>\n",
       "      <td>7.0</td>\n",
       "      <td>0.750</td>\n",
       "      <td>big password free login mad madthumb porn porn...</td>\n",
       "    </tr>\n",
       "    <tr>\n",
       "      <th>1</th>\n",
       "      <td>15</td>\n",
       "      <td>porntube.com</td>\n",
       "      <td>1</td>\n",
       "      <td>10</td>\n",
       "      <td>4</td>\n",
       "      <td>47.0</td>\n",
       "      <td>7.0</td>\n",
       "      <td>0.750</td>\n",
       "      <td>big anal blond fuck babe pussi ass hard hot in...</td>\n",
       "    </tr>\n",
       "    <tr>\n",
       "      <th>2</th>\n",
       "      <td>51</td>\n",
       "      <td>mydickdorms.com</td>\n",
       "      <td>1</td>\n",
       "      <td>3</td>\n",
       "      <td>7</td>\n",
       "      <td>173.0</td>\n",
       "      <td>12.0</td>\n",
       "      <td>0.575</td>\n",
       "      <td>bareback author dude first last licens mg mode...</td>\n",
       "    </tr>\n",
       "  </tbody>\n",
       "</table>\n",
       "</div>"
      ],
      "text/plain": [
       "   url_id              url  url_harmful_idx  harmful_word_num  \\\n",
       "0       5   madteenies.com                2                10   \n",
       "1      15     porntube.com                1                10   \n",
       "2      51  mydickdorms.com                1                 3   \n",
       "\n",
       "   harmful_child_num  img_num  child_num  harmful_weight  \\\n",
       "0                  3     42.0        7.0           0.750   \n",
       "1                  4     47.0        7.0           0.750   \n",
       "2                  7    173.0       12.0           0.575   \n",
       "\n",
       "                                            top_word  \n",
       "0  big password free login mad madthumb porn porn...  \n",
       "1  big anal blond fuck babe pussi ass hard hot in...  \n",
       "2  bareback author dude first last licens mg mode...  "
      ]
     },
     "execution_count": 2,
     "metadata": {},
     "output_type": "execute_result"
    }
   ],
   "source": [
    "from sklearn.tree import DecisionTreeClassifier\n",
    "from sklearn.datasets import load_iris\n",
    "from sklearn.model_selection import train_test_split\n",
    "import warnings\n",
    "import re\n",
    "warnings.filterwarnings('ignore')\n",
    "import pandas as pd\n",
    "import sklearn\n",
    "import numpy as np\n",
    "import matplotlib.pyplot as plt\n",
    "%matplotlib inline\n",
    "cl_df = pd.read_csv('harmful_2_learning60000.csv')\n",
    "cl_df.head(3)"
   ]
  },
  {
   "cell_type": "code",
   "execution_count": 3,
   "metadata": {
    "collapsed": true
   },
   "outputs": [],
   "source": [
    "cl_df['top_word'] = cl_df['top_word'].fillna(\" \")\n",
    "cl_df['top_word'] = cl_df['top_word'].apply(lambda x : re.sub(\"[^a-zA-Z]\",\" \", x))"
   ]
  },
  {
   "cell_type": "code",
   "execution_count": 13,
   "metadata": {},
   "outputs": [],
   "source": [
    "from nltk.stem import WordNetLemmatizer\n",
    "from nltk.stem import LancasterStemmer\n",
    "import nltk\n",
    "import string\n",
    "from nltk.stem.snowball import SnowballStemmer\n",
    "stopwords = nltk.corpus.stopwords.words('english') # '은,는,이,가' 이런거 없애주는 사전\n",
    "stemmer = SnowballStemmer(\"english\")  # 부사,형용사 이런걸 어근으로 바꿔줌\n",
    "\n",
    "remove_punct_dict = dict((ord(punct), None) for punct in string.punctuation)\n",
    "lemmar = WordNetLemmatizer()\n",
    "\n",
    "def LemTokens(tokens):\n",
    "    return [lemmar.lemmatize(token) for token in tokens]\n",
    "\n",
    "def LemNormalize(text):\n",
    "    return LemTokens(nltk.word_tokenize(text.lower().translate(remove_punct_dict)))\n",
    "\n",
    "def tokenize_and_stem(text):\n",
    "    # first tokenize by sentence, then by word to ensure that punctuation is caught as it's own token\n",
    "    tokens = [word for sent in nltk.sent_tokenize(text) for word in nltk.word_tokenize(sent)]\n",
    "    filtered_tokens = []\n",
    "    # filter out any tokens not containing letters (e.g., numeric tokens, raw punctuation)\n",
    "    for token in tokens:\n",
    "        if re.search('[a-zA-Z]', token):\n",
    "            filtered_tokens.append(token)\n",
    "    stems = [stemmer.stem(t) for t in filtered_tokens]\n",
    "    return stems\n",
    "\n",
    "def tokenize_only(text):\n",
    "    # first tokenize by sentence, then by word to ensure that punctuation is caught as it's own token\n",
    "    tokens = [word.lower() for sent in nltk.sent_tokenize(text) for word in nltk.word_tokenize(sent)]\n",
    "    filtered_tokens = []\n",
    "    # filter out any tokens not containing letters (e.g., numeric tokens, raw punctuation)\n",
    "    for token in tokens:\n",
    "        if re.search('[a-zA-Z]', token):\n",
    "            filtered_tokens.append(token)\n",
    "    return filtered_tokens"
   ]
  },
  {
   "cell_type": "code",
   "execution_count": 14,
   "metadata": {},
   "outputs": [
    {
     "data": {
      "text/plain": [
       "<matplotlib.figure.Figure at 0x1656d7ba550>"
      ]
     },
     "metadata": {},
     "output_type": "display_data"
    }
   ],
   "source": [
    "from sklearn.feature_extraction.text import CountVectorizer\n",
    "from sklearn.feature_extraction.text import TfidfVectorizer\n",
    "\n",
    "count_vectorizer = CountVectorizer(stop_words=stopwords, max_features=10000, min_df=0.01, #ngram_range=(1,2), \n",
    "                                tokenizer=tokenize_only)\n",
    "\n",
    "count_matrix = count_vectorizer.fit_transform(cl_df['top_word'])\n",
    "plt.savefig('ward_clusters2.png', dpi=200) #save figure as ward_clusters"
   ]
  },
  {
   "cell_type": "code",
   "execution_count": 15,
   "metadata": {},
   "outputs": [
    {
     "name": "stdout",
     "output_type": "stream",
     "text": [
      "['access', 'account', 'action', 'activ', 'ad', 'add', 'address', 'adult', 'advertis', 'age', 'agenc', 'ago', 'agre', 'ai', 'al', 'also', 'amateur', 'anal', 'ani', 'anim', 'app', 'applic', 'april', 'archiv', 'area', 'art', 'articl', 'asian', 'ass', 'auf', 'august', 'author', 'avail', 'award', 'b', 'babe', 'back', 'bbw', 'bdsm', 'beauti', 'best', 'bet', 'big', 'black', 'blog', 'blond', 'bodi', 'boob', 'book', 'boy', 'brand', 'browser', 'build', 'busi', 'busti', 'buy', 'c', 'call', 'cam', 'car', 'career', 'casino', 'categori', 'center', 'chang', 'chat', 'check', 'citi', 'click', 'client', 'clip', 'club', 'cock', 'code', 'collect', 'com', 'come', 'comic', 'comment', 'communiti', 'compani', 'condit', 'connect', 'contact', 'content', 'continu', 'cooki', 'copyright', 'creat', 'cum', 'custom', 'das', 'data', 'date', 'day', 'de', 'decemb', 'den', 'der', 'des', 'design', 'detail', 'deutsch', 'develop', 'dick', 'die', 'digit', 'directori', 'display', 'domain', 'download', 'du', 'e', 'educ', 'een', 'ein', 'email', 'en', 'enabl', 'english', 'enjoy', 'enter', 'erot', 'escort', 'espa', 'et', 'event', 'experi', 'explicit', 'f', 'facebook', 'featur', 'februari', 'fetish', 'find', 'first', 'fran', 'free', 'friend', 'fuck', 'full', 'galleri', 'game', 'gay', 'get', 'girl', 'give', 'global', 'go', 'great', 'group', 'guid', 'guy', 'hair', 'hard', 'hardcor', 'hd', 'health', 'help', 'het', 'high', 'home', 'horni', 'host', 'hot', 'hour', 'http', 'huge', 'imag', 'industri', 'info', 'inform', 'intern', 'italiano', 'januari', 'javascript', 'je', 'job', 'join', 'know', 'l', 'la', 'ladi', 'latest', 'le', 'learn', 'legal', 'les', 'lesbian', 'life', 'like', 'link', 'list', 'live', 'local', 'login', 'london', 'look', 'love', 'make', 'man', 'manag', 'mar', 'march', 'market', 'materi', 'matur', 'may', 'media', 'meet', 'melayu', 'member', 'men', 'met', 'milf', 'mistress', 'mit', 'mobil', 'model', 'mom', 'month', 'movi', 'n', 'nake', 'name', 'need', 'net', 'network', 'new', 'news', 'novemb', 'nude', 'offer', 'ol', 'old', 'one', 'onli', 'onlin', 'op', 'open', 'page', 'parti', 'partner', 'password', 'peopl', 'person', 'phone', 'photo', 'pic', 'pictur', 'play', 'pleas', 'pm', 'polici', 'polska', 'porn', 'porno', 'portugu', 'post', 'price', 'privaci', 'product', 'program', 'project', 'provid', 'public', 'pussi', 'r', 'read', 'real', 'regist', 'report', 'requir', 'research', 'resourc', 'review', 'right', 'sale', 'scene', 'school', 'search', 'secur', 'see', 'server', 'servic', 'set', 'sex', 'sexi', 'sexual', 'share', 'shemal', 'shop', 'show', 'sie', 'sign', 'site', 'softwar', 'solut', 'sport', 'start', 'state', 'stori', 'suck', 'support', 'system', 'take', 'te', 'team', 'technolog', 'teen', 'term', 'ticket', 'time', 'tip', 'tit', 'today', 'top', 'travel', 'tube', 'u', 'uk', 'un', 'und', 'updat', 'upgrad', 'us', 'use', 'user', 'van', 'video', 'view', 'visit', 'voor', 'want', 'watch', 'web', 'webcam', 'websit', 'week', 'women', 'work', 'world', 'www', 'x', 'xxx', 'year', 'young', 'zu']\n"
     ]
    }
   ],
   "source": [
    "terms = count_vectorizer.get_feature_names()\n",
    "print(terms)"
   ]
  },
  {
   "cell_type": "code",
   "execution_count": 23,
   "metadata": {},
   "outputs": [
    {
     "name": "stdout",
     "output_type": "stream",
     "text": [
      "iteration : 1\n",
      "iteration : 2\n",
      "iteration : 3\n",
      "iteration : 4\n",
      "iteration : 5\n",
      "iteration : 6\n",
      "iteration : 7\n",
      "iteration : 8\n",
      "iteration : 9\n",
      "iteration : 10\n",
      "iteration : 11\n",
      "iteration : 12\n"
     ]
    }
   ],
   "source": [
    "from sklearn.cluster import KMeans\n",
    "K = range(1,13)\n",
    "distortions = []\n",
    "for k in K:\n",
    "    kmeansModel = KMeans(n_clusters=k).fit(count_matrix)\n",
    "    distortions.append(kmeansModel.inertia_)\n",
    "    print(\"iteration : %s\"%k)"
   ]
  },
  {
   "cell_type": "code",
   "execution_count": 34,
   "metadata": {},
   "outputs": [
    {
     "data": {
      "image/png": "[encoded data removed]",
      "text/plain": [
       "<matplotlib.figure.Figure at 0x1656e0da320>"
      ]
     },
     "metadata": {},
     "output_type": "display_data"
    }
   ],
   "source": [
    "import matplotlib.pyplot as plt\n",
    "plt.plot(K, distortions,'-bx')\n",
    "plt.xlabel('k')\n",
    "plt.ylabel('Sum WordVecs')\n",
    "plt.title('k-means Model')\n",
    "plt.savefig('elbow3.png', dpi=200) #save figure as ward_clusters"
   ]
  },
  {
   "cell_type": "code",
   "execution_count": 28,
   "metadata": {
    "collapsed": true
   },
   "outputs": [],
   "source": [
    "from sklearn.cluster import KMeans\n",
    "\n",
    "# 8개 집합으로 군집화 수행. 예제를 위해 동일한 클러스터링 결과 도출용 random_state=0 \n",
    "km_cluster = KMeans(n_clusters=7, max_iter=10000, random_state=0)\n",
    "km_cluster.fit(count_matrix)\n",
    "cluster_label = km_cluster.labels_\n",
    "cluster_centers = km_cluster.cluster_centers_"
   ]
  },
  {
   "cell_type": "code",
   "execution_count": 29,
   "metadata": {},
   "outputs": [
    {
     "name": "stdout",
     "output_type": "stream",
     "text": [
      "cluster_centers shape : (7, 348)\n",
      "[[  1.72877449e-03   8.83595851e-03   2.68920476e-03 ...,   1.15251633e-03\n",
      "    3.84172109e-04   1.11409912e-01]\n",
      " [  6.20307623e-02   3.98166634e-02   1.64215617e-02 ...,   4.94896381e-02\n",
      "    5.08955937e-03   6.18620476e-04]\n",
      " [  1.36518771e-02   2.37201365e-01   1.19453925e-02 ...,   3.41296928e-03\n",
      "    1.70648464e-02   5.11945392e-03]\n",
      " ..., \n",
      " [  0.00000000e+00   0.00000000e+00   0.00000000e+00 ...,   0.00000000e+00\n",
      "    0.00000000e+00   0.00000000e+00]\n",
      " [  3.20102433e-03   7.68245839e-03   0.00000000e+00 ...,   0.00000000e+00\n",
      "    0.00000000e+00   6.40204866e-04]\n",
      " [  0.00000000e+00   0.00000000e+00   0.00000000e+00 ...,   0.00000000e+00\n",
      "    1.00000000e+00   0.00000000e+00]]\n"
     ]
    }
   ],
   "source": [
    "cluster_centers = km_cluster.cluster_centers_\n",
    "print('cluster_centers shape :',cluster_centers.shape)\n",
    "print(cluster_centers)"
   ]
  },
  {
   "cell_type": "code",
   "execution_count": 30,
   "metadata": {
    "collapsed": true
   },
   "outputs": [],
   "source": [
    "# 군집별 top n 핵심단어, 그 단어의 중심 위치 상대값, 대상 파일명들을 반환함. \n",
    "def get_cluster_details(cluster_model, cluster_data, feature_names, clusters_num, top_n_features=20):\n",
    "    cluster_details = {}\n",
    "    \n",
    "    # cluster_centers array 의 값이 큰 순으로 정렬된 index 값을 반환\n",
    "    # 군집 중심점(centroid)별 할당된 word 피처들의 거리값이 큰 순으로 값을 구하기 위함.  \n",
    "    centroid_feature_ordered_ind = cluster_model.cluster_centers_.argsort()[:,::-1]\n",
    "    \n",
    "    #개별 군집별로 iteration하면서 핵심단어, 그 단어의 중심 위치 상대값, 대상 파일명 입력\n",
    "    for cluster_num in range(clusters_num):\n",
    "        # 개별 군집별 정보를 담을 데이터 초기화. \n",
    "        cluster_details[cluster_num] = {}\n",
    "        cluster_details[cluster_num]['cluster'] = cluster_num\n",
    "        \n",
    "        # cluster_centers_.argsort()[:,::-1] 로 구한 index 를 이용하여 top n 피처 단어를 구함. \n",
    "        top_feature_indexes = centroid_feature_ordered_ind[cluster_num, :top_n_features]\n",
    "        top_features = [ feature_names[ind] for ind in top_feature_indexes ]\n",
    "        \n",
    "        # top_feature_indexes를 이용해 해당 피처 단어의 중심 위치 상댓값 구함 \n",
    "        top_feature_values = cluster_model.cluster_centers_[cluster_num, top_feature_indexes].tolist()\n",
    "        \n",
    "        # cluster_details 딕셔너리 객체에 개별 군집별 핵심 단어와 중심위치 상대값, 그리고 해당 파일명 입력\n",
    "        cluster_details[cluster_num]['top_features'] = top_features\n",
    "        cluster_details[cluster_num]['top_features_value'] = top_feature_values\n",
    "        filenames = cluster_data[cluster_data['cluster_label'] == cluster_num]['url']\n",
    "        filenames = filenames.values.tolist()\n",
    "        cluster_details[cluster_num]['url'] = filenames\n",
    "        \n",
    "    return cluster_details\n",
    "\n",
    "def print_cluster_details(cluster_details):\n",
    "    for cluster_num, cluster_detail in cluster_details.items():\n",
    "        print('####### Cluster {0}'.format(cluster_num))\n",
    "        print('Top features:', cluster_detail['top_features'])\n",
    "        print('url :',cluster_detail['url'][:20])\n",
    "        print('==================================================')\n"
   ]
  },
  {
   "cell_type": "code",
   "execution_count": 32,
   "metadata": {},
   "outputs": [
    {
     "name": "stdout",
     "output_type": "stream",
     "text": [
      "####### Cluster 0\n",
      "Top features: ['de', 'en', 'die', 'een', 'und', 'van', 'het', 'op', 'du', 'la', 'der', 'r', 'met', 'je', 'voor', 'mit', 'f', 'ein', 'et', 'te']\n",
      "url : ['porno6porno.com', 'escortamsterdam.net', 'zangerandre.nl', 'over-blog.com', 'feyenoordheadlines.nl', 'ajaxheadlines.nl', 'zeitungheute.org', 'overblog.com', 'nachrichtheute.com', 'andrevanamstel.nl', 'zeitungenheute.com', 'camchatix.com', 'zeitungheute.net', 'giganieuws.nl', 'hollandislive.nl', 'formule1.ws', 'zeitungheute.com', 'nieuwsdump.be', 'over-blog.fr', 'dvduncuts.com']\n",
      "==================================================\n",
      "####### Cluster 1\n",
      "Top features: ['us', 'new', 'contact', 'site', 'servic', 'use', 'free', 'get', 'com', 'read', 'news', 'home', 'ani', 'busi', 'view', 'event', 'websit', 'best', 'adult', 'access']\n",
      "url : ['mydickdorms.com', 'videonsex.com', 'live-sex-free.net', 'handjobmovies.net', 'xadultbook.com', 'sensualadviser.com', 'moviesx.com', 'swingerclubbing.com', 'fuckonwebcams.com', 'manueluncut.com', 'cowlist.com', 'gay-cruise.net', 'moneyshotpills.com', 'mollyslife.com', 'canada-today.com', 'newsdump.co.uk', '2bondage.com', 'malesexcinema.com', 'freepersonals.com', 'shevibe.com']\n",
      "==================================================\n",
      "####### Cluster 2\n",
      "Top features: ['com', 'www', 'http', 'domain', 'name', 'net', 'account', 'visit', 'get', 'contact', 'best', 'copyright', 'servic', 'porn', 'e', 'pleas', 'sale', 'right', 'day', 'secur']\n",
      "url : ['gamenews-today.com', 'pornsitedomains.com', 'xtwisted.com', 'tugpass.com', 'loadedcash.com', 'craziescash.com', '1freepornfinder.com', 'sexmoney.com', 'expireddomains.com', 'peoplemedia.com', 'womansdaymediakit.com', 'pornsearchengine.com', 'mysticcash.com', 'wearesmartertravel.com', 'teenmania.top', 'extremebikinibabes.com', 'joyourself.com.co', 'livepinkcams.com', 'bdsmcartoonsplus.com', 'comics-bdsm.net']\n",
      "==================================================\n",
      "####### Cluster 3\n",
      "Top features: ['porn', 'sex', 'fuck', 'girl', 'video', 'get', 'hot', 'big', 'free', 'teen', 'cock', 'pussi', 'babe', 'sexi', 'ass', 'site', 'amateur', 'tit', 'anal', 'like']\n",
      "url : ['madteenies.com', 'porntube.com', 'wankworld.com', 'porn-pornporn.com', 'yqchat.net', 'tightpinkteens.com', 'gayemart.com', 'javidolphotos.com', 'societybdsm.org', '100livecam.com', 'asstube101.com', 'adultvideoondemand.net', 'camscamscams.com', 'chinanews.life', 'hardsexcartoon.com', 'sublimenetwork.com', 'superjasmin.com', 'analtube101.com', 'gagged-bondage.com', 'adultsallowed.net']\n",
      "==================================================\n",
      "####### Cluster 4\n",
      "Top features: ['browser', 'site', 'javascript', 'pleas', 'cooki', 'enabl', 'set', 'chang', 'requir', 'upgrad', 'b', 'use', 'experi', 'contact', 'digit', 'book', 'home', 'ad', 'c', 'movi']\n",
      "url : ['lustypetite.com', 'spucky.com', 'sexycamgirls.xxx', 'free-live-cams.com', 'imperialtopmodels.com', 'sony.eu', 'carsales.com.au', 'readyplayeronemovie.com', 'Soytoken.com', 'YeosuCoin.com', 'CaiCoin.com', 'TdRobots.com', 'EmpoweCoin.com', 'clicoin.com', 'ValentineCoin.com', 'GearRobotics.com', 'SejongCoin.com', 'Telework.co', 'SonChain.com', 'Hitq.com']\n",
      "==================================================\n",
      "####### Cluster 5\n",
      "Top features: ['espa', 'english', 'ol', 'fran', 'ai', 'deutsch', 'portugu', 'italiano', 'polska', 'melayu', 'top', 'onlin', 'club', 'info', 'websit', 'com', 'l', 'game', 'support', 'uk']\n",
      "url : ['showbabes.nl', 'feeltrend.top', 'kaufenonline.site', 'fidstuff.online', 'alite.pro', 'bazaaremail.info', 'happy-world.mobi', 'mau-halito.info', 'umetaro.top', 'ekstech.online', 'iktm.club', 'happylifenu.nl', 'world-rally-museum.nl', 'freelivesex.online', 'gal-para.club', 'bewegtsein.info', 'somenathghosh.space', 'latinacamsex.nl', 'vrouw-zoekt-man.info', 'blazingsupport.com']\n",
      "==================================================\n",
      "####### Cluster 6\n",
      "Top features: ['fuck', 'porn', 'free', 'com', 'xxx', 'mom', 'cock', 'sex', 'teen', 'old', 'girl', 'boy', 'video', 'ass', 'amateur', 'tube', 'car', 'top', 'man', 'asian']\n",
      "url : ['adultwebmastercenter.biz']\n",
      "==================================================\n"
     ]
    }
   ],
   "source": [
    "from sklearn.feature_extraction.text import TfidfVectorizer\n",
    "cl_df['cluster_label'] = cluster_label\n",
    "feature_names = count_vectorizer.get_feature_names()\n",
    "\n",
    "cluster_details = get_cluster_details(cluster_model=km_cluster, cluster_data=cl_df,\\\n",
    "                                   feature_names=feature_names, clusters_num=7, top_n_features=20 )\n",
    "print_cluster_details(cluster_details)"
   ]
  },
  {
   "cell_type": "code",
   "execution_count": null,
   "metadata": {
    "collapsed": true
   },
   "outputs": [],
   "source": []
  }
 ],
 "metadata": {
  "kernelspec": {
   "display_name": "Python 3",
   "language": "python",
   "name": "python3"
  },
  "language_info": {
   "codemirror_mode": {
    "name": "ipython",
    "version": 3
   },
   "file_extension": ".py",
   "mimetype": "text/x-python",
   "name": "python",
   "nbconvert_exporter": "python",
   "pygments_lexer": "ipython3",
   "version": "3.6.8"
  }
 },
 "nbformat": 4,
 "nbformat_minor": 2
}
