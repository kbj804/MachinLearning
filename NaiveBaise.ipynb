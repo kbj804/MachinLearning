{
 "cells": [
  {
   "cell_type": "code",
   "execution_count": 26,
   "metadata": {
    "collapsed": true
   },
   "outputs": [],
   "source": [
    "import math, sys\n",
    "#from konlpy.tag import Twitter\n",
    "class BayesianFilter:\n",
    "    \"\"\" 베이지안 필터 \"\"\"\n",
    "    def __init__(self):\n",
    "        self.words = set() # 출현한 단어 기록\n",
    "        self.word_dict = {} # 카테고리마다의 출현 횟수 기록\n",
    "        self.category_dict = {} # 카테고리 출현 횟수 기록\n",
    "    # 형태소 분석하기 --- (※1)\n",
    "    def split(self, text):\n",
    "        results = []\n",
    "        list = text.split()\n",
    "        for word in list:\n",
    "            results.append(word)\n",
    "        return results\n",
    "    # 단어와 카테고리의 출현 횟수 세기 --- (※2)\n",
    "    def inc_word(self, word, category):\n",
    "        # 단어를 카테고리에 추가하기\n",
    "        if not category in self.word_dict:\n",
    "            self.word_dict[category] = {}\n",
    "        if not word in self.word_dict[category]:\n",
    "            self.word_dict[category][word] = 0\n",
    "        self.word_dict[category][word] += 1\n",
    "        self.words.add(word)\n",
    "    def inc_category(self, category):\n",
    "        # 카테고리 계산하기\n",
    "        if not category in self.category_dict:\n",
    "            self.category_dict[category] = 0\n",
    "        self.category_dict[category] += 1\n",
    "    \n",
    "    # 텍스트 학습하기 --- (※3)\n",
    "    def fit(self, text, category):\n",
    "        \"\"\" 텍스트 학습 \"\"\"\n",
    "        word_list = self.split(text)\n",
    "        for word in word_list:\n",
    "            self.inc_word(word, category)\n",
    "        self.inc_category(category)\n",
    "    \n",
    "    # 단어 리스트에 점수 매기기--- (※4)\n",
    "    def score(self, words, category):\n",
    "        score = math.log(self.category_prob(category))\n",
    "        for word in words:\n",
    "            score += math.log(self.word_prob(word, category))\n",
    "        return score\n",
    "    \n",
    "    # 예측하기 --- (※5)\n",
    "    def predict(self, text):\n",
    "        best_category = None\n",
    "        max_score = -sys.maxsize \n",
    "        words = self.split(text)\n",
    "        for word in words:\n",
    "            if word in harmful_url_dic:\n",
    "                score_list = []\n",
    "                for category in self.category_dict.keys():\n",
    "                    score = self.score(words, category)\n",
    "                    score_list.append((category, score))\n",
    "                    if score > max_score:\n",
    "                        max_score = score\n",
    "                        best_category = category\n",
    "                \n",
    "        \n",
    "        return best_category, score_list\n",
    "    # 카테고리 내부의 단어 출현 횟수 구하기\n",
    "    def get_word_count(self, word, category):\n",
    "        if word in self.word_dict[category]:\n",
    "            return self.word_dict[category][word]\n",
    "        else:\n",
    "            return 0\n",
    "    # 카테고리 계산\n",
    "    def category_prob(self, category):\n",
    "        sum_categories = sum(self.category_dict.values())\n",
    "        category_v = self.category_dict[category]\n",
    "        return category_v / sum_categories\n",
    "        \n",
    "    # 카테고리 내부의 단어 출현 비율 계산 --- (※6)\n",
    "    def word_prob(self, word, category):\n",
    "        n = self.get_word_count(word, category) + 1 # ---(※6a)\n",
    "        d = sum(self.word_dict[category].values()) + len(self.words)\n",
    "        return n / d\n",
    "    \n"
   ]
  },
  {
   "cell_type": "code",
   "execution_count": 27,
   "metadata": {
    "collapsed": true
   },
   "outputs": [],
   "source": [
    "harmful_url_dic = {'sex': 1, 'porn': 1, 'gay': 1, 'tube': 1, 'pornhub':1,\n",
    "                   'xxx': 1, 'fuck': 1, 'dick': 1, 'tit': 2,\n",
    "                   'anal': 1, 'asian': 1, 'adult': 1, 'shemal': 1,'lesbian': 1,\n",
    "\n",
    "                   'teen': 2, 'big': 2, 'girl': 2, 'pussi': 2, 'ass': 2, 'amateur': 2, 'matur': 2,\n",
    "                   'cock': 2,'milf': 2, 'sexi': 2, 'babe':2, 'nud':2, 'nude': 2,\n",
    "                   'blond': 2, 'blowjob': 2, 'cum': 2, 'young': 2,\n",
    "                   'hardcor': 2, 'hardcore': 2 ,\n",
    "\n",
    "                   'game': 3, 'casino': 3, 'play': 3, 'onlin': 3,'online':3, \n",
    "                   'card': 3,  'race': 3,  'admin': 3,\n",
    "\n",
    "                   'escort': 4, 'servic': 4, 'service':4, 'agenc': 4,\n",
    "                   'galleri': 4,'massag': 4, 'model': 4, \n",
    "                   'vip': 4, 'profil': 4,\n",
    "                   \n",
    "                   \n",
    "                   'cam':5, 'video':5, 'chat':5, 'webcam': 5,\n",
    "                   \n",
    "                   'domain':7, 'domains':7, 'gateway':7\n",
    "}\n"
   ]
  },
  {
   "cell_type": "code",
   "execution_count": 28,
   "metadata": {
    "collapsed": true
   },
   "outputs": [],
   "source": [
    "bf = BayesianFilter()\n",
    "for i in harmful_url_dic:\n",
    "    bf.fit(i,harmful_url_dic[i])\n",
    "    "
   ]
  },
  {
   "cell_type": "code",
   "execution_count": 29,
   "metadata": {},
   "outputs": [
    {
     "name": "stdout",
     "output_type": "stream",
     "text": [
      "2\n",
      "[(1, -5.726597152422373), (2, -5.391124416134243), (3, -6.137996996050351), (4, -6.035481432524756), (5, -6.767630770887971), (7, -7.038783541388542)]\n"
     ]
    }
   ],
   "source": [
    "pre, scorelist = bf.predict(\"good\")\n",
    "print(pre)\n",
    "print(scorelist)"
   ]
  },
  {
   "cell_type": "code",
   "execution_count": null,
   "metadata": {
    "collapsed": true
   },
   "outputs": [],
   "source": []
  }
 ],
 "metadata": {
  "kernelspec": {
   "display_name": "Python 3",
   "language": "python",
   "name": "python3"
  },
  "language_info": {
   "codemirror_mode": {
    "name": "ipython",
    "version": 3
   },
   "file_extension": ".py",
   "mimetype": "text/x-python",
   "name": "python",
   "nbconvert_exporter": "python",
   "pygments_lexer": "ipython3",
   "version": "3.6.8"
  }
 },
 "nbformat": 4,
 "nbformat_minor": 2
}
