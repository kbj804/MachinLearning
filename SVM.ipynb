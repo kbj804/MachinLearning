{
 "cells": [
  {
   "cell_type": "code",
   "execution_count": 1,
   "metadata": {
    "collapsed": true
   },
   "outputs": [],
   "source": [
    "from sklearn.svm import SVC"
   ]
  },
  {
   "cell_type": "code",
   "execution_count": 9,
   "metadata": {},
   "outputs": [
    {
     "data": {
      "text/html": [
       "<div>\n",
       "<style>\n",
       "    .dataframe thead tr:only-child th {\n",
       "        text-align: right;\n",
       "    }\n",
       "\n",
       "    .dataframe thead th {\n",
       "        text-align: left;\n",
       "    }\n",
       "\n",
       "    .dataframe tbody tr th {\n",
       "        vertical-align: top;\n",
       "    }\n",
       "</style>\n",
       "<table border=\"1\" class=\"dataframe\">\n",
       "  <thead>\n",
       "    <tr style=\"text-align: right;\">\n",
       "      <th></th>\n",
       "      <th>url_id</th>\n",
       "      <th>url</th>\n",
       "      <th>url_harmful_idx</th>\n",
       "      <th>harmful_word_num</th>\n",
       "      <th>harmful_child_num</th>\n",
       "      <th>img_num</th>\n",
       "      <th>child_num</th>\n",
       "      <th>harmful_weight</th>\n",
       "      <th>top_word</th>\n",
       "      <th>word_idx</th>\n",
       "      <th>img_child</th>\n",
       "      <th>target</th>\n",
       "    </tr>\n",
       "  </thead>\n",
       "  <tbody>\n",
       "    <tr>\n",
       "      <th>0</th>\n",
       "      <td>5</td>\n",
       "      <td>madteenies.com</td>\n",
       "      <td>2</td>\n",
       "      <td>10</td>\n",
       "      <td>3</td>\n",
       "      <td>1</td>\n",
       "      <td>1</td>\n",
       "      <td>0.750</td>\n",
       "      <td>big password free login mad madthumb porn porn...</td>\n",
       "      <td>2</td>\n",
       "      <td>0</td>\n",
       "      <td>2</td>\n",
       "    </tr>\n",
       "    <tr>\n",
       "      <th>1</th>\n",
       "      <td>15</td>\n",
       "      <td>porntube.com</td>\n",
       "      <td>1</td>\n",
       "      <td>10</td>\n",
       "      <td>4</td>\n",
       "      <td>1</td>\n",
       "      <td>1</td>\n",
       "      <td>0.750</td>\n",
       "      <td>big anal blond fuck babe pussi ass hard hot in...</td>\n",
       "      <td>2</td>\n",
       "      <td>0</td>\n",
       "      <td>2</td>\n",
       "    </tr>\n",
       "    <tr>\n",
       "      <th>2</th>\n",
       "      <td>51</td>\n",
       "      <td>mydickdorms.com</td>\n",
       "      <td>1</td>\n",
       "      <td>3</td>\n",
       "      <td>7</td>\n",
       "      <td>3</td>\n",
       "      <td>2</td>\n",
       "      <td>0.575</td>\n",
       "      <td>bareback author dude first last licens mg mode...</td>\n",
       "      <td>4</td>\n",
       "      <td>0</td>\n",
       "      <td>4</td>\n",
       "    </tr>\n",
       "  </tbody>\n",
       "</table>\n",
       "</div>"
      ],
      "text/plain": [
       "   url_id              url  url_harmful_idx  harmful_word_num  \\\n",
       "0       5   madteenies.com                2                10   \n",
       "1      15     porntube.com                1                10   \n",
       "2      51  mydickdorms.com                1                 3   \n",
       "\n",
       "   harmful_child_num  img_num  child_num  harmful_weight  \\\n",
       "0                  3        1          1           0.750   \n",
       "1                  4        1          1           0.750   \n",
       "2                  7        3          2           0.575   \n",
       "\n",
       "                                            top_word  word_idx  img_child  \\\n",
       "0  big password free login mad madthumb porn porn...         2          0   \n",
       "1  big anal blond fuck babe pussi ass hard hot in...         2          0   \n",
       "2  bareback author dude first last licens mg mode...         4          0   \n",
       "\n",
       "   target  \n",
       "0       2  \n",
       "1       2  \n",
       "2       4  "
      ]
     },
     "execution_count": 9,
     "metadata": {},
     "output_type": "execute_result"
    }
   ],
   "source": [
    "from sklearn.tree import DecisionTreeClassifier\n",
    "from sklearn.datasets import load_iris\n",
    "from sklearn.model_selection import train_test_split\n",
    "import warnings\n",
    "warnings.filterwarnings('ignore')\n",
    "import pandas as pd\n",
    "import sklearn\n",
    "import numpy as np\n",
    "import matplotlib.pyplot as plt\n",
    "%matplotlib inline\n",
    "harmful_2_df = pd.read_csv('harmful_2_learning500.csv')\n",
    "#columns = ['url','img_num','child_num','harmful_weight','learn_idx']\n",
    "\n",
    "harmful_url_dic = {'sex': 1, 'porn': 1, 'gay': 1, 'movi': 1, 'movie': 1, 'tube': 1, 'pornhub':1,\n",
    "                   'xxx': 1, 'fuck': 1, 'pic': 1, 'dick': 1, 'hot': 1,\n",
    "                   'anal': 1, 'asian': 1, 'adult': 1, 'shemal': 1, 'cartoon':1,\n",
    "                   'pictur': 1, 'picture': 1, 'lesbian': 1,\n",
    "\n",
    "                   'teen': 2, 'big': 2, 'girl': 2, 'pussi': 2, 'ass': 2, 'tit': 2, 'amateur': 2, 'matur': 2, 'boy': 2,\n",
    "                   'babe': 2, 'cock': 2,'milf': 2, 'sexi': 2, 'bebe':2, 'nud':2,\n",
    "                   'pic': 2, 'blond': 2, 'nude': 2, 'hairi': 2, 'blowjob': 2, 'cum': 2, 'young': 2,\n",
    "                   'hardcor': 2, 'hardcore': 2 ,\n",
    "\n",
    "                   'game': 3, 'casino': 3, 'play': 3, 'onlin': 3,'online':3, \n",
    "                   'card': 3,  'race': 3,  'admin': 3,\n",
    "\n",
    "                   'escort': 4, 'london': 4, 'servic': 4, 'service':4, 'agenc': 4,\n",
    "                   'galleri': 4,'massag': 4, 'model': 4, 'femal': 4, 'fmale': 4,\n",
    "                   'vip': 4, 'book': 4, 'uk': 4, 'russian': 4, 'profil': 4,\n",
    "                   'busti': 4, 'class': 4, 'adult': 4, 'york': 4,\n",
    "                   \n",
    "                   'cam':5, 'video':5, 'chat':5, 'webcam': 5,\n",
    "                   \n",
    "                   'domain':7, 'domains':7, 'gateway':7\n",
    "}\n",
    "\n",
    "def word_idx(top20):\n",
    "    list = top20.split()\n",
    "    for word in list:\n",
    "        if word in harmful_url_dic:\n",
    "            return harmful_url_dic[word]\n",
    "            break;\n",
    "    return 0\n",
    "\n",
    "def img_idx(num):\n",
    "    if num < 10 : return 0\n",
    "    elif (num >=10)&(num<50): return 1\n",
    "    elif (num >=50)&(num<100): return 2\n",
    "    elif (num >=100)&(num<200): return 3\n",
    "    else: return 4\n",
    "\n",
    "def child_idx(num):\n",
    "    if num < 5 : return 0\n",
    "    elif (num >=5)&(num<10): return 1\n",
    "    elif (num >=10)&(num<25): return 2\n",
    "    else: return 3\n",
    "\n",
    "def img_child(img, child):\n",
    "    if img >= child: return 0\n",
    "    else: return 1\n",
    "\n",
    "def target(wi, ic, hw):\n",
    "    if hw < 0.125 :\n",
    "        if wi == 0: return 0\n",
    "        elif wi == 7: return 7\n",
    "        else: return wi\n",
    "        \n",
    "    elif hw >= 0.125 and hw < 0.5:\n",
    "        if ic == 1 : return 6\n",
    "        else: return wi\n",
    "        \n",
    "    # harmful_weight >= 0.5    \n",
    "    else:\n",
    "        if wi == 0 or wi ==7 : return 7\n",
    "        elif ic == 1: return 6\n",
    "        else: return wi\n",
    "    \n",
    "harmful_2_df['word_idx'] = harmful_2_df['top_word'].apply(lambda x : word_idx(x))\n",
    "harmful_2_df['img_child'] = harmful_2_df.apply(lambda x : img_child(x['img_num'],x['child_num']),axis=1)\n",
    "harmful_2_df['img_num'] = harmful_2_df['img_num'].apply(lambda x : img_idx(x))\n",
    "harmful_2_df['child_num'] = harmful_2_df['child_num'].apply(lambda x : child_idx(x))\n",
    " \n",
    "harmful_2_df['target'] = harmful_2_df.apply(lambda x : target(x['word_idx'],x['img_child'],x['harmful_weight']),axis=1)\n",
    "\n",
    "harmful_2_df.head(3)"
   ]
  },
  {
   "cell_type": "code",
   "execution_count": 10,
   "metadata": {},
   "outputs": [
    {
     "data": {
      "text/html": [
       "<div>\n",
       "<style>\n",
       "    .dataframe thead tr:only-child th {\n",
       "        text-align: right;\n",
       "    }\n",
       "\n",
       "    .dataframe thead th {\n",
       "        text-align: left;\n",
       "    }\n",
       "\n",
       "    .dataframe tbody tr th {\n",
       "        vertical-align: top;\n",
       "    }\n",
       "</style>\n",
       "<table border=\"1\" class=\"dataframe\">\n",
       "  <thead>\n",
       "    <tr style=\"text-align: right;\">\n",
       "      <th></th>\n",
       "      <th>url_harmful_idx</th>\n",
       "      <th>img_num</th>\n",
       "      <th>child_num</th>\n",
       "      <th>harmful_weight</th>\n",
       "      <th>word_idx</th>\n",
       "    </tr>\n",
       "  </thead>\n",
       "  <tbody>\n",
       "    <tr>\n",
       "      <th>0</th>\n",
       "      <td>2</td>\n",
       "      <td>1</td>\n",
       "      <td>1</td>\n",
       "      <td>0.750</td>\n",
       "      <td>2</td>\n",
       "    </tr>\n",
       "    <tr>\n",
       "      <th>1</th>\n",
       "      <td>1</td>\n",
       "      <td>1</td>\n",
       "      <td>1</td>\n",
       "      <td>0.750</td>\n",
       "      <td>2</td>\n",
       "    </tr>\n",
       "    <tr>\n",
       "      <th>2</th>\n",
       "      <td>1</td>\n",
       "      <td>3</td>\n",
       "      <td>2</td>\n",
       "      <td>0.575</td>\n",
       "      <td>4</td>\n",
       "    </tr>\n",
       "  </tbody>\n",
       "</table>\n",
       "</div>"
      ],
      "text/plain": [
       "   url_harmful_idx  img_num  child_num  harmful_weight  word_idx\n",
       "0                2        1          1           0.750         2\n",
       "1                1        1          1           0.750         2\n",
       "2                1        3          2           0.575         4"
      ]
     },
     "execution_count": 10,
     "metadata": {},
     "output_type": "execute_result"
    }
   ],
   "source": [
    "harmDF = harmful_2_df[['url_harmful_idx','img_num','child_num','harmful_weight','word_idx']]\n",
    "harmDF.data = harmDF.values.tolist()\n",
    "harmDF.target = harmful_2_df[['target']]\n",
    "harmDF.feature_names=['url_harmful_idx','img_num','child_num','harmful_weight','word_idx']\n",
    "harmDF.target_names=['none','porn','teen','gambling','escort','cam','hub','domain']\n",
    "harmDF.head(3)"
   ]
  },
  {
   "cell_type": "code",
   "execution_count": 23,
   "metadata": {},
   "outputs": [
    {
     "data": {
      "text/plain": [
       "SVC(C=1.0, cache_size=200, class_weight='balanced', coef0=0.0,\n",
       "  decision_function_shape=None, degree=3, gamma='auto', kernel='rbf',\n",
       "  max_iter=-1, probability=False, random_state=None, shrinking=True,\n",
       "  tol=0.001, verbose=False)"
      ]
     },
     "execution_count": 23,
     "metadata": {},
     "output_type": "execute_result"
    }
   ],
   "source": [
    "from sklearn.metrics import accuracy_score, precision_score , recall_score , confusion_matrix\n",
    "from sklearn.metrics import f1_score \n",
    "from sklearn.preprocessing import StandardScaler\n",
    "from sklearn import svm, metrics\n",
    "\n",
    "X_train, X_test, y_train, y_test = train_test_split(\n",
    "    harmDF.data, harmDF.target, stratify=harmDF.target, random_state=42)\n",
    "clf= svm.SVC(class_weight='balanced')\n",
    "clf.fit(X_train,y_train)\n",
    "\n"
   ]
  },
  {
   "cell_type": "code",
   "execution_count": 24,
   "metadata": {},
   "outputs": [
    {
     "data": {
      "text/plain": [
       "array([2, 1, 2, 0, 0, 5, 7, 7, 4, 5, 5, 6, 1, 2, 7, 1, 2, 6, 5, 1, 1, 6, 4,\n",
       "       4, 0, 1, 1, 0, 4, 1, 3, 6, 1, 6, 0, 1, 0, 2, 7, 3, 5, 6, 1, 7, 4, 0,\n",
       "       1, 1, 0, 2, 0, 1, 0, 1, 5, 5, 0, 0, 4, 2, 7, 4, 0, 1, 1, 4, 6, 1, 4,\n",
       "       2, 4, 2, 4, 4, 3, 1, 7, 6, 6, 1, 0, 0, 2, 0, 5, 2, 4, 0, 5, 5, 0, 0,\n",
       "       2, 1, 3, 5, 2, 2, 5, 2, 1, 2, 0, 6, 1, 1, 4, 5, 1, 0, 2, 1, 4, 4, 5,\n",
       "       1, 0, 6, 0, 2, 0, 3, 1, 4, 0], dtype=int64)"
      ]
     },
     "execution_count": 24,
     "metadata": {},
     "output_type": "execute_result"
    }
   ],
   "source": [
    "predict=clf.predict(X_test)\n",
    "predict"
   ]
  },
  {
   "cell_type": "code",
   "execution_count": 13,
   "metadata": {
    "collapsed": true
   },
   "outputs": [],
   "source": [
    "def get_clf_eval(y_test , pred):\n",
    "    confusion = confusion_matrix( y_test, pred)\n",
    "    accuracy = accuracy_score(y_test , pred)\n",
    "    precision = precision_score(y_test , pred,average='macro')\n",
    "    recall = recall_score(y_test , pred, average='macro')\n",
    "    # F1 스코어 추가\n",
    "    f1 = f1_score(y_test,pred, average='macro')\n",
    "    print('오차 행렬')\n",
    "    print(confusion)\n",
    "    # f1 score print 추가\n",
    "    print('정확도: {0:.4f}, 정밀도: {1:.4f}, 재현율: {2:.4f}, F1:{3:.4f}'.format(accuracy, precision, recall, f1))"
   ]
  },
  {
   "cell_type": "code",
   "execution_count": 27,
   "metadata": {},
   "outputs": [
    {
     "name": "stdout",
     "output_type": "stream",
     "text": [
      "0.896\n",
      "             precision    recall  f1-score   support\n",
      "\n",
      "          0       0.96      1.00      0.98        24\n",
      "          1       0.86      0.96      0.91        25\n",
      "          2       0.89      1.00      0.94        16\n",
      "          3       1.00      0.83      0.91         6\n",
      "          4       0.94      0.94      0.94        17\n",
      "          5       0.86      1.00      0.92        12\n",
      "          6       0.82      0.47      0.60        19\n",
      "          7       0.86      1.00      0.92         6\n",
      "\n",
      "avg / total       0.89      0.90      0.89       125\n",
      "\n"
     ]
    }
   ],
   "source": [
    "ac_score = metrics.accuracy_score(y_test,predict)\n",
    "cl_report = metrics.classification_report(y_test,predict)\n",
    "print(ac_score)\n",
    "print(cl_report)"
   ]
  },
  {
   "cell_type": "code",
   "execution_count": 15,
   "metadata": {},
   "outputs": [
    {
     "name": "stdout",
     "output_type": "stream",
     "text": [
      "각각의 정답률 = [ 0.88461538  0.84158416  0.86        0.90909091  0.79166667]\n",
      "평균 정답률 = 0.857391423758\n"
     ]
    }
   ],
   "source": [
    "from sklearn import svm,metrics,model_selection\n",
    "import random, re\n",
    "\n",
    "lable= harmDF.target.loc[:,\"target\"]\n",
    "\n",
    "clf = svm.SVC()\n",
    "scores = model_selection.cross_val_score(clf, harmDF.data, lable, cv=5)\n",
    "print(\"각각의 정답률 =\", scores)\n",
    "print(\"평균 정답률 =\", scores.mean())"
   ]
  },
  {
   "cell_type": "code",
   "execution_count": 26,
   "metadata": {
    "collapsed": true
   },
   "outputs": [],
   "source": [
    "from sklearn.metrics import accuracy_score, precision_score , recall_score , confusion_matrix\n",
    "from sklearn.metrics import f1_score \n",
    "\n",
    "def get_clf_eval(y_test , pred):\n",
    "    confusion = confusion_matrix( y_test, pred)\n",
    "    accuracy = accuracy_score(y_test , pred)\n",
    "    precision = precision_score(y_test , pred,average='macro')\n",
    "    recall = recall_score(y_test , pred, average='macro')\n",
    "    # F1 스코어 추가\n",
    "    f1 = f1_score(y_test,pred, average='macro')\n",
    "    print('오차 행렬')\n",
    "    print(confusion)\n",
    "    # f1 score print 추가\n",
    "    print('정확도: {0:.4f}, 정밀도: {1:.4f}, 재현율: {2:.4f}, F1:{3:.4f}'.format(accuracy, precision, recall, f1))"
   ]
  },
  {
   "cell_type": "code",
   "execution_count": 28,
   "metadata": {},
   "outputs": [
    {
     "name": "stdout",
     "output_type": "stream",
     "text": [
      "오차 행렬\n",
      "[[24  0  0  0  0  0  0  0]\n",
      " [ 0 24  0  0  0  0  1  0]\n",
      " [ 0  0 16  0  0  0  0  0]\n",
      " [ 0  0  1  5  0  0  0  0]\n",
      " [ 0  0  0  0 16  0  1  0]\n",
      " [ 0  0  0  0  0 12  0  0]\n",
      " [ 1  4  1  0  1  2  9  1]\n",
      " [ 0  0  0  0  0  0  0  6]]\n",
      "정확도: 0.8960, 정밀도: 0.8975, 재현율: 0.9010, F1:0.8904\n"
     ]
    }
   ],
   "source": [
    "get_clf_eval(y_test,predict)"
   ]
  }
 ],
 "metadata": {
  "kernelspec": {
   "display_name": "Python 3",
   "language": "python",
   "name": "python3"
  },
  "language_info": {
   "codemirror_mode": {
    "name": "ipython",
    "version": 3
   },
   "file_extension": ".py",
   "mimetype": "text/x-python",
   "name": "python",
   "nbconvert_exporter": "python",
   "pygments_lexer": "ipython3",
   "version": "3.6.8"
  }
 },
 "nbformat": 4,
 "nbformat_minor": 2
}
