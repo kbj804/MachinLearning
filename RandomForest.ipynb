{
 "cells": [
  {
   "cell_type": "code",
   "execution_count": 155,
   "metadata": {
    "collapsed": true
   },
   "outputs": [],
   "source": [
    "from sklearn.tree import DecisionTreeClassifier\n",
    "from sklearn.datasets import load_iris\n",
    "from sklearn.model_selection import train_test_split\n",
    "import warnings\n",
    "import re\n",
    "warnings.filterwarnings('ignore')\n",
    "import pandas as pd\n",
    "from sklearn.metrics import accuracy_score\n",
    "import sklearn\n",
    "import numpy as np\n",
    "import matplotlib.pyplot as plt\n",
    "%matplotlib inline\n",
    "harmful_2_df = pd.read_csv('harmful_2_learning500.csv')\n",
    "\n",
    "\n",
    "harmful_url_dic = {'sex': 1, 'porn': 1, 'gay': 1, 'movi': 1, 'movie': 1, 'tube': 1, 'pornhub':1,\n",
    "                   'xxx': 1, 'fuck': 1, 'pic': 1, 'dick': 1, 'hot': 1,\n",
    "                   'anal': 1, 'asian': 1, 'adult': 1, 'shemal': 1, 'cartoon':1,\n",
    "                   'pictur': 1, 'picture': 1, 'lesbian': 1,\n",
    "\n",
    "                   'teen': 2, 'big': 2, 'girl': 2, 'pussi': 2, 'ass': 2, 'tit': 2, 'amateur': 2, 'matur': 2, 'boy': 2,\n",
    "                   'babe': 2, 'cock': 2,'milf': 2, 'sexi': 2, 'bebe':2, 'nud':2,\n",
    "                   'pic': 2, 'blond': 2, 'nude': 2, 'hairi': 2, 'blowjob': 2, 'cum': 2, 'young': 2,\n",
    "                   'hardcor': 2, 'hardcore': 2 ,\n",
    "\n",
    "                   'game': 3, 'casino': 3, 'play': 3, 'onlin': 3,'online':3, \n",
    "                   'card': 3,  'race': 3,  'admin': 3,\n",
    "\n",
    "                   'escort': 4, 'london': 4, 'servic': 4, 'service':4, 'agenc': 4,\n",
    "                   'galleri': 4,'massag': 4, 'model': 4, 'femal': 4, 'fmale': 4,\n",
    "                   'vip': 4, 'book': 4, 'uk': 4, 'russian': 4, 'profil': 4,\n",
    "                   'busti': 4, 'class': 4, 'adult': 4, 'york': 4,\n",
    "                   \n",
    "                   'cam':5, 'video':5, 'chat':5, 'webcam': 5,\n",
    "                   \n",
    "                   'domain':7, 'domains':7, 'gateway':7\n",
    "}\n",
    "\n",
    "def word_idx(top20):\n",
    "    list = top20.split()\n",
    "    for word in list:\n",
    "        if word in harmful_url_dic:\n",
    "            return harmful_url_dic[word]\n",
    "            break;\n",
    "    return 0\n",
    "\n",
    "def img_idx(num):\n",
    "    if num < 10 : return 0\n",
    "    elif (num >=10)&(num<50): return 1\n",
    "    elif (num >=50)&(num<100): return 2\n",
    "    elif (num >=100)&(num<200): return 3\n",
    "    else: return 4\n",
    "\n",
    "def child_idx(num):\n",
    "    if num < 5 : return 0\n",
    "    elif (num >=5)&(num<10): return 1\n",
    "    elif (num >=10)&(num<25): return 2\n",
    "    else: return 3\n",
    "\n",
    "def img_child(img, child):\n",
    "    if img >= child: return 0\n",
    "    else: return 1\n",
    "\n",
    "def target(wi, ic, hw):\n",
    "    if hw < 0.125 :\n",
    "        if wi == 0: return 0\n",
    "        elif wi == 7: return 7\n",
    "        else: return wi\n",
    "        \n",
    "    elif hw >= 0.125 and hw < 0.5:\n",
    "        if ic == 1 : return 6\n",
    "        else: return wi\n",
    "        \n",
    "    # harmful_weight >= 0.5    \n",
    "    else:\n",
    "        if wi == 0 or wi ==7 : return 7\n",
    "        elif ic == 1: return 6\n",
    "        else: return wi\n",
    "harmful_2_df['top_word'] = harmful_2_df['top_word'].fillna(\" \")\n",
    "harmful_2_df['top_word'] = harmful_2_df['top_word'].apply(lambda x : re.sub(\"[^a-zA-Z]\",\" \", x))"
   ]
  },
  {
   "cell_type": "code",
   "execution_count": 156,
   "metadata": {},
   "outputs": [
    {
     "data": {
      "text/html": [
       "<div>\n",
       "<style>\n",
       "    .dataframe thead tr:only-child th {\n",
       "        text-align: right;\n",
       "    }\n",
       "\n",
       "    .dataframe thead th {\n",
       "        text-align: left;\n",
       "    }\n",
       "\n",
       "    .dataframe tbody tr th {\n",
       "        vertical-align: top;\n",
       "    }\n",
       "</style>\n",
       "<table border=\"1\" class=\"dataframe\">\n",
       "  <thead>\n",
       "    <tr style=\"text-align: right;\">\n",
       "      <th></th>\n",
       "      <th>url_id</th>\n",
       "      <th>url</th>\n",
       "      <th>url_harmful_idx</th>\n",
       "      <th>harmful_word_num</th>\n",
       "      <th>harmful_child_num</th>\n",
       "      <th>img_num</th>\n",
       "      <th>child_num</th>\n",
       "      <th>harmful_weight</th>\n",
       "      <th>top_word</th>\n",
       "      <th>word_idx</th>\n",
       "      <th>img_child</th>\n",
       "      <th>target</th>\n",
       "    </tr>\n",
       "  </thead>\n",
       "  <tbody>\n",
       "    <tr>\n",
       "      <th>0</th>\n",
       "      <td>5</td>\n",
       "      <td>madteenies.com</td>\n",
       "      <td>2</td>\n",
       "      <td>10</td>\n",
       "      <td>3</td>\n",
       "      <td>1</td>\n",
       "      <td>1</td>\n",
       "      <td>0.750</td>\n",
       "      <td>big password free login mad madthumb porn porn...</td>\n",
       "      <td>2</td>\n",
       "      <td>0</td>\n",
       "      <td>2</td>\n",
       "    </tr>\n",
       "    <tr>\n",
       "      <th>1</th>\n",
       "      <td>15</td>\n",
       "      <td>porntube.com</td>\n",
       "      <td>1</td>\n",
       "      <td>10</td>\n",
       "      <td>4</td>\n",
       "      <td>1</td>\n",
       "      <td>1</td>\n",
       "      <td>0.750</td>\n",
       "      <td>big anal blond fuck babe pussi ass hard hot in...</td>\n",
       "      <td>2</td>\n",
       "      <td>0</td>\n",
       "      <td>2</td>\n",
       "    </tr>\n",
       "    <tr>\n",
       "      <th>2</th>\n",
       "      <td>51</td>\n",
       "      <td>mydickdorms.com</td>\n",
       "      <td>1</td>\n",
       "      <td>3</td>\n",
       "      <td>7</td>\n",
       "      <td>3</td>\n",
       "      <td>2</td>\n",
       "      <td>0.575</td>\n",
       "      <td>bareback author dude first last licens mg mode...</td>\n",
       "      <td>4</td>\n",
       "      <td>0</td>\n",
       "      <td>4</td>\n",
       "    </tr>\n",
       "  </tbody>\n",
       "</table>\n",
       "</div>"
      ],
      "text/plain": [
       "   url_id              url  url_harmful_idx  harmful_word_num  \\\n",
       "0       5   madteenies.com                2                10   \n",
       "1      15     porntube.com                1                10   \n",
       "2      51  mydickdorms.com                1                 3   \n",
       "\n",
       "   harmful_child_num  img_num  child_num  harmful_weight  \\\n",
       "0                  3        1          1           0.750   \n",
       "1                  4        1          1           0.750   \n",
       "2                  7        3          2           0.575   \n",
       "\n",
       "                                            top_word  word_idx  img_child  \\\n",
       "0  big password free login mad madthumb porn porn...         2          0   \n",
       "1  big anal blond fuck babe pussi ass hard hot in...         2          0   \n",
       "2  bareback author dude first last licens mg mode...         4          0   \n",
       "\n",
       "   target  \n",
       "0       2  \n",
       "1       2  \n",
       "2       4  "
      ]
     },
     "execution_count": 156,
     "metadata": {},
     "output_type": "execute_result"
    }
   ],
   "source": [
    "from sklearn.ensemble import RandomForestClassifier\n",
    "\n",
    "harmful_2_df['word_idx'] = harmful_2_df['top_word'].apply(lambda x : word_idx(x))\n",
    "harmful_2_df['img_child'] = harmful_2_df.apply(lambda x : img_child(x['img_num'],x['child_num']),axis=1)\n",
    "harmful_2_df['img_num'] = harmful_2_df['img_num'].apply(lambda x : img_idx(x))\n",
    "harmful_2_df['child_num'] = harmful_2_df['child_num'].apply(lambda x : child_idx(x))\n",
    " \n",
    "harmful_2_df['target'] = harmful_2_df.apply(lambda x : target(x['word_idx'],x['img_child'],x['harmful_weight']),axis=1)\n",
    "\n",
    "harmful_2_df.head(3)"
   ]
  },
  {
   "cell_type": "code",
   "execution_count": 157,
   "metadata": {},
   "outputs": [
    {
     "data": {
      "text/html": [
       "<div>\n",
       "<style>\n",
       "    .dataframe thead tr:only-child th {\n",
       "        text-align: right;\n",
       "    }\n",
       "\n",
       "    .dataframe thead th {\n",
       "        text-align: left;\n",
       "    }\n",
       "\n",
       "    .dataframe tbody tr th {\n",
       "        vertical-align: top;\n",
       "    }\n",
       "</style>\n",
       "<table border=\"1\" class=\"dataframe\">\n",
       "  <thead>\n",
       "    <tr style=\"text-align: right;\">\n",
       "      <th></th>\n",
       "      <th>url_harmful_idx</th>\n",
       "      <th>img_num</th>\n",
       "      <th>child_num</th>\n",
       "      <th>harmful_weight</th>\n",
       "      <th>word_idx</th>\n",
       "    </tr>\n",
       "  </thead>\n",
       "  <tbody>\n",
       "    <tr>\n",
       "      <th>0</th>\n",
       "      <td>2</td>\n",
       "      <td>1</td>\n",
       "      <td>1</td>\n",
       "      <td>0.750</td>\n",
       "      <td>2</td>\n",
       "    </tr>\n",
       "    <tr>\n",
       "      <th>1</th>\n",
       "      <td>1</td>\n",
       "      <td>1</td>\n",
       "      <td>1</td>\n",
       "      <td>0.750</td>\n",
       "      <td>2</td>\n",
       "    </tr>\n",
       "    <tr>\n",
       "      <th>2</th>\n",
       "      <td>1</td>\n",
       "      <td>3</td>\n",
       "      <td>2</td>\n",
       "      <td>0.575</td>\n",
       "      <td>4</td>\n",
       "    </tr>\n",
       "  </tbody>\n",
       "</table>\n",
       "</div>"
      ],
      "text/plain": [
       "   url_harmful_idx  img_num  child_num  harmful_weight  word_idx\n",
       "0                2        1          1           0.750         2\n",
       "1                1        1          1           0.750         2\n",
       "2                1        3          2           0.575         4"
      ]
     },
     "execution_count": 157,
     "metadata": {},
     "output_type": "execute_result"
    }
   ],
   "source": [
    "harmDF = harmful_2_df[['url_harmful_idx','img_num','child_num','harmful_weight','word_idx']]\n",
    "harmDF.data = harmDF.values.tolist()\n",
    "harmDF.target = harmful_2_df[['target']]\n",
    "harmDF.feature_names=['url_harmful_idx','img_num','child_num','harmful_weight','word_idx']\n",
    "harmDF.target_names=['none','porn','teen','gambling','escort','cam','hub','domain']\n",
    "harmDF.head(3)"
   ]
  },
  {
   "cell_type": "code",
   "execution_count": 158,
   "metadata": {},
   "outputs": [
    {
     "name": "stdout",
     "output_type": "stream",
     "text": [
      "랜덤 포레스트 정확도: 0.8867\n"
     ]
    }
   ],
   "source": [
    "X_train , X_test , y_train , y_test = train_test_split(harmDF.data, harmDF.target,\n",
    "                                                       test_size=0.3,  random_state=33)\n",
    "rnd_clf = RandomForestClassifier(n_estimators=250, max_depth=9 , n_jobs=-1, random_state=0)\n",
    "rnd_clf.fit(X_train, y_train)\n",
    "y_pred_rf = rnd_clf.predict(X_test)\n",
    "\n",
    "accuracy = accuracy_score(y_test , y_pred_rf)\n",
    "print('랜덤 포레스트 정확도: {0:.4f}'.format(accuracy))"
   ]
  },
  {
   "cell_type": "code",
   "execution_count": 159,
   "metadata": {},
   "outputs": [
    {
     "name": "stdout",
     "output_type": "stream",
     "text": [
      "랜덤 포레스트 정확도: 0.8867\n"
     ]
    }
   ],
   "source": [
    "X_features = np.array(harmDF.data)\n",
    "y_label = np.array(harmDF.target)\n",
    "X_train, X_test, y_train, y_test=train_test_split(X_features, y_label,\n",
    "                                         test_size=0.3, random_state=0 )\n",
    "rf_clf = RandomForestClassifier(random_state=0)\n",
    "rf_clf.fit(X_train , y_train)\n",
    "pred = rf_clf.predict(X_test)\n",
    "accuracy = accuracy_score(y_test , pred)\n",
    "print('랜덤 포레스트 정확도: {0:.4f}'.format(accuracy))"
   ]
  },
  {
   "cell_type": "code",
   "execution_count": 162,
   "metadata": {},
   "outputs": [
    {
     "name": "stdout",
     "output_type": "stream",
     "text": [
      "오차 행렬\n",
      "[[21  0  0  0  0  0  0  0]\n",
      " [ 0 23  0  0  0  0  1  0]\n",
      " [ 0  3 20  1  0  0  1  0]\n",
      " [ 0  0  0  7  0  0  0  0]\n",
      " [ 0  0  0  0 22  0  1  0]\n",
      " [ 0  0  0  1  3 13  1  0]\n",
      " [ 1  1  0  0  1  1 19  0]\n",
      " [ 0  0  0  0  0  1  0  8]]\n",
      "정확도: 0.8867, 정밀도: 0.8904, 재현율: 0.8940, F1:0.8870\n"
     ]
    },
    {
     "data": {
      "text/plain": [
       "array([6, 1, 1, 1, 2, 6, 1, 0, 5, 4, 4, 0, 4, 0, 7, 0, 7, 1, 1, 1, 1, 6, 7,\n",
       "       2, 1, 1, 2, 5, 1, 6, 0, 6, 4, 4, 7, 0, 4, 4, 4, 7, 1, 6, 3, 0, 0, 2,\n",
       "       1, 4, 1, 5, 4, 3, 1, 4, 0, 4, 4, 6, 4, 1, 6, 1, 6, 5, 0, 1, 1, 0, 2,\n",
       "       2, 4, 6, 2, 0, 6, 4, 3, 4, 0, 2, 0, 6, 5, 1, 3, 0, 2, 1, 5, 2, 2, 4,\n",
       "       6, 4, 5, 6, 6, 7, 0, 6, 5, 2, 1, 3, 5, 3, 1, 4, 0, 2, 6, 4, 1, 1, 5,\n",
       "       4, 7, 1, 2, 4, 2, 6, 5, 6, 0, 5, 5, 0, 6, 0, 0, 1, 4, 4, 2, 3, 3, 2,\n",
       "       2, 6, 5, 2, 2, 6, 0, 7, 4, 3, 5, 6], dtype=int64)"
      ]
     },
     "execution_count": 162,
     "metadata": {},
     "output_type": "execute_result"
    }
   ],
   "source": [
    "from sklearn.metrics import accuracy_score, precision_score , recall_score , confusion_matrix\n",
    "from sklearn.metrics import f1_score \n",
    "\n",
    "def get_clf_eval(y_test , pred):\n",
    "    confusion = confusion_matrix( y_test, pred)\n",
    "    accuracy = accuracy_score(y_test , pred)\n",
    "    precision = precision_score(y_test , pred,average='macro')\n",
    "    recall = recall_score(y_test , pred, average='macro')\n",
    "    # F1 스코어 추가\n",
    "    f1 = f1_score(y_test,pred, average='macro')\n",
    "    print('오차 행렬')\n",
    "    print(confusion)\n",
    "    # f1 score print 추가\n",
    "    print('정확도: {0:.4f}, 정밀도: {1:.4f}, 재현율: {2:.4f}, F1:{3:.4f}'.format(accuracy, precision, recall, f1))\n",
    "    \n",
    "    \n",
    "get_clf_eval(y_test,pred)\n",
    "pred"
   ]
  },
  {
   "cell_type": "code",
   "execution_count": 134,
   "metadata": {},
   "outputs": [
    {
     "name": "stdout",
     "output_type": "stream",
     "text": [
      "예측 정확도: 0.8960\n"
     ]
    }
   ],
   "source": [
    "rf_clf1 = RandomForestClassifier(max_depth=5, n_estimators=100, random_state=1)\n",
    "rf_clf1.fit(X_train , y_train)\n",
    "pred = rf_clf1.predict(X_test)\n",
    "print('예측 정확도: {0:.4f}'.format(accuracy_score(y_test , pred)))\n"
   ]
  },
  {
   "cell_type": "code",
   "execution_count": 163,
   "metadata": {},
   "outputs": [
    {
     "data": {
      "image/png": "[encoded data removed]",
      "text/plain": [
       "<matplotlib.figure.Figure at 0x25fe3b98908>"
      ]
     },
     "metadata": {},
     "output_type": "display_data"
    }
   ],
   "source": [
    "import matplotlib.pyplot as plt\n",
    "import seaborn as sns\n",
    "%matplotlib inline\n",
    "\n",
    "ftr_importances_values = rf_clf.feature_importances_\n",
    "ftr_importances = pd.Series(ftr_importances_values,index=harmDF.feature_names)\n",
    "ftr_top20 = ftr_importances.sort_values(ascending=False)[:5]\n",
    "\n",
    "plt.figure(figsize=(8,6))\n",
    "plt.title('RandomForest Classifier')\n",
    "sns.barplot(x=ftr_top20 , y = ftr_top20.index)\n",
    "plt.show()"
   ]
  },
  {
   "cell_type": "code",
   "execution_count": null,
   "metadata": {
    "collapsed": true
   },
   "outputs": [],
   "source": []
  }
 ],
 "metadata": {
  "kernelspec": {
   "display_name": "Python 3",
   "language": "python",
   "name": "python3"
  },
  "language_info": {
   "codemirror_mode": {
    "name": "ipython",
    "version": 3
   },
   "file_extension": ".py",
   "mimetype": "text/x-python",
   "name": "python",
   "nbconvert_exporter": "python",
   "pygments_lexer": "ipython3",
   "version": "3.6.8"
  }
 },
 "nbformat": 4,
 "nbformat_minor": 2
}
